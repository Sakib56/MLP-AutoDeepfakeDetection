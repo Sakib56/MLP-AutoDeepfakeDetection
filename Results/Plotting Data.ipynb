{
 "cells": [
  {
   "cell_type": "code",
   "execution_count": 110,
   "metadata": {},
   "outputs": [
    {
     "name": "stdout",
     "output_type": "stream",
     "text": [
      "/Users/saadsharif/Google Drive/Colab Notebooks/MLP-DeepfakeDetection-VariationalAutoencoder/Results\n",
      "Untitled.ipynb\n",
      "Untitled1.ipynb\n",
      "Untrained_Meso4_on_avg_with_DF_summary.txt\n",
      "Untrained_Meso4_on_avg_with_F2F_summary.txt\n",
      "Untrained_Meso4_on_rnd_with_DF_summary.txt\n",
      "Untrained_Meso4_on_rnd_with_F2F_summary.txt\n",
      "Untrained_MesoInception4_on_avg_with_DF_summary.txt\n",
      "Untrained_MesoInception4_on_avg_with_F2F_summary.txt\n",
      "Untrained_MesoInception4_on_diff_with_F2F_summary.txt\n",
      "Untrained_MesoInception4_on_rnd_with_DF_summary.txt\n",
      "Untrained_MesoInception4_on_rnd_with_F2F_summary.txt\n"
     ]
    }
   ],
   "source": [
    "\n",
    "import matplotlib.pyplot as plt"
   ]
  },
  {
   "cell_type": "code",
   "execution_count": 148,
   "metadata": {},
   "outputs": [],
   "source": [
    "def extract_data(file):\n",
    "    data_file = open(file, \"r\")\n",
    "\n",
    "    thresholds = []\n",
    "    precisions = []\n",
    "    recalls = []\n",
    "    f1_scores = []\n",
    "\n",
    "    while True:\n",
    "\n",
    "        line = data_file.readline()\n",
    "        if not line:\n",
    "            break\n",
    "\n",
    "        if \"THRESHOLD\" in line:\n",
    "                thresholds.append(float(line[-5:-1]))\n",
    "\n",
    "        if \"REAL\" in line:\n",
    "            precisions.append(float(line[19:23]))\n",
    "            recalls.append(float(line[29:33]))\n",
    "            f1_scores.append(float(line[39:43]))\n",
    "\n",
    "    data_file.close()\n",
    "    \n",
    "    return (thresholds, precisions, recalls, f1_scores)"
   ]
  },
  {
   "cell_type": "code",
   "execution_count": 151,
   "metadata": {},
   "outputs": [],
   "source": [
    "def plot_data(file, thresholds, precisions, recalls, f1_scores, title=\"\"):\n",
    "    f = plt.figure(figsize=(9,7))\n",
    "    plt.plot(thresholds, precisions, label=\"Precision\")\n",
    "    plt.plot(thresholds, recalls, label=\"Recall\")\n",
    "    plt.plot(thresholds, f1_scores, label=\"F1 Score\")\n",
    "    plt.xlabel('Threshold')\n",
    "    plt.ylabel('Accuracy')\n",
    "#     plt.title(file[:-4].replace(\"_\", \" \"))\n",
    "    plt.title(title)\n",
    "    plt.legend(loc='upper left')\n",
    "    plt.show()\n",
    "\n",
    "    f.savefig(\"plots/\"+file[:-4]+\"_plot.pdf\", bbox_inches='tight')\n"
   ]
  },
  {
   "cell_type": "code",
   "execution_count": 153,
   "metadata": {},
   "outputs": [
    {
     "ename": "IndexError",
     "evalue": "tuple index out of range",
     "output_type": "error",
     "traceback": [
      "\u001b[0;31m---------------------------------------------------------------------------\u001b[0m",
      "\u001b[0;31mIndexError\u001b[0m                                Traceback (most recent call last)",
      "\u001b[0;32m<ipython-input-153-f8608482ee10>\u001b[0m in \u001b[0;36m<module>\u001b[0;34m\u001b[0m\n\u001b[1;32m     14\u001b[0m \u001b[0;32mfor\u001b[0m \u001b[0mfile\u001b[0m \u001b[0;32min\u001b[0m \u001b[0mfiles\u001b[0m\u001b[0;34m:\u001b[0m\u001b[0;34m\u001b[0m\u001b[0;34m\u001b[0m\u001b[0m\n\u001b[1;32m     15\u001b[0m     \u001b[0mthresholds\u001b[0m\u001b[0;34m,\u001b[0m \u001b[0mprecisions\u001b[0m\u001b[0;34m,\u001b[0m \u001b[0mrecalls\u001b[0m\u001b[0;34m,\u001b[0m \u001b[0mf1_scores\u001b[0m \u001b[0;34m=\u001b[0m  \u001b[0mextract_data\u001b[0m\u001b[0;34m(\u001b[0m\u001b[0mfile\u001b[0m\u001b[0;34m[\u001b[0m\u001b[0;36m0\u001b[0m\u001b[0;34m]\u001b[0m\u001b[0;34m)\u001b[0m\u001b[0;34m\u001b[0m\u001b[0;34m\u001b[0m\u001b[0m\n\u001b[0;32m---> 16\u001b[0;31m     \u001b[0mplot_data\u001b[0m\u001b[0;34m(\u001b[0m\u001b[0mfile\u001b[0m\u001b[0;34m[\u001b[0m\u001b[0;36m0\u001b[0m\u001b[0;34m]\u001b[0m\u001b[0;34m,\u001b[0m \u001b[0mthresholds\u001b[0m\u001b[0;34m,\u001b[0m \u001b[0mprecisions\u001b[0m\u001b[0;34m,\u001b[0m \u001b[0mrecalls\u001b[0m\u001b[0;34m,\u001b[0m \u001b[0mf1_scores\u001b[0m\u001b[0;34m,\u001b[0m \u001b[0mfile\u001b[0m\u001b[0;34m[\u001b[0m\u001b[0;36m1\u001b[0m\u001b[0;34m]\u001b[0m\u001b[0;34m)\u001b[0m\u001b[0;34m\u001b[0m\u001b[0;34m\u001b[0m\u001b[0m\n\u001b[0m",
      "\u001b[0;31mIndexError\u001b[0m: tuple index out of range"
     ]
    }
   ],
   "source": [
    "files = []\n",
    "file1 = (\"Untrained_Meso4_on_avg_with_DF_summary.txt\", \"Varying Classification Threshold on Untrained Meso4 on Average Dataset with DF weights (Real Class)\")\n",
    "file2 = (\"Untrained_Meso4_on_avg_with_F2F_summary.txt\", \"Varying Classification Threshold on Untrained Meso4 on Average Dataset with F2F weights (Real Class)\")\n",
    "file3 = (\"Untrained_Meso4_on_rnd_with_DF_summary.txt\", \"Varying Classification Threshold on Untrained Meso4 on Random Dataset with DF weights (Real Class)\")\n",
    "file4 = (\"Untrained_Meso4_on_rnd_with_F2F_summary.txt\", \"Varying Classification Threshold on Untrained Meso4 on Random Dataset with DF weights (Real Class)\")\n",
    "file5 = (\"Untrained_MesoInception4_on_avg_with_DF_summary.txt\", \"Varying Classification Threshold on Untrained MesoInception4 on Average Dataset with DF weights (Real Class)\")\n",
    "file6 = (\"Untrained_MesoInception4_on_avg_with_F2F_summary.txt\", \"Varying Classification Threshold on Untrained MesoInception4 on Average Dataset with F2F weights (Real Class)\")\n",
    "file7 = (\"Untrained_MesoInception4_on_diff_with_F2F_summary.txt\", \"Varying Classification Threshold on Untrained MesoInception4 on Difference Dataset with F2F Weights (Real Class)\")\n",
    "file8 = (\"Untrained_MesoInception4_on_rnd_with_DF_summary.txt\", \"\")\n",
    "file9 = (\"Untrained_MesoInception4_on_rnd_with_F2F_summary.txt\", \"Varying Classification Threshold on Untrained MesoInception4 on Random Dataset with F2F weights (Real Class)\")\n",
    "\n",
    "files = [file1, file2,file3,file4, file5, file6, file7, file8, file9]\n",
    "\n",
    "for file in files:\n",
    "    thresholds, precisions, recalls, f1_scores =  extract_data(file[0])\n",
    "    plot_data(file[0], thresholds, precisions, recalls, f1_scores, file[1])"
   ]
  },
  {
   "cell_type": "code",
   "execution_count": null,
   "metadata": {},
   "outputs": [],
   "source": []
  }
 ],
 "metadata": {
  "kernelspec": {
   "display_name": "Python 3",
   "language": "python",
   "name": "python3"
  },
  "language_info": {
   "codemirror_mode": {
    "name": "ipython",
    "version": 3
   },
   "file_extension": ".py",
   "mimetype": "text/x-python",
   "name": "python",
   "nbconvert_exporter": "python",
   "pygments_lexer": "ipython3",
   "version": "3.7.7"
  }
 },
 "nbformat": 4,
 "nbformat_minor": 4
}
