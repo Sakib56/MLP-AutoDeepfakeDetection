{
 "cells": [
  {
   "cell_type": "code",
   "execution_count": 1,
   "metadata": {},
   "outputs": [],
   "source": [
    "# Building simplest autoencoder\n",
    "\n",
    "# start simple, with a single fully-connected neural layer as encoder and as decoder:"
   ]
  },
  {
   "cell_type": "code",
   "execution_count": 2,
   "metadata": {},
   "outputs": [],
   "source": [
    "# import keras\n",
    "# from keras import layers\n",
    "\n",
    "# # This is the size of our encoded representations\n",
    "# encoding_dim = 32  # 32 floats -> compression of factor 24.5, assuming the input is 784 floats\n",
    "\n",
    "# # This is our input image\n",
    "# input_img = keras.Input(shape=(784,))\n",
    "# # \"encoded\" is the encoded representation of the input\n",
    "# encoded = layers.Dense(encoding_dim, activation='relu')(input_img)\n",
    "# # \"decoded\" is the lossy reconstruction of the input\n",
    "# decoded = layers.Dense(784, activation='sigmoid')(encoded)\n",
    "\n",
    "# # This model maps an input to its reconstruction\n",
    "# autoencoder = keras.Model(input_img, decoded)"
   ]
  },
  {
   "cell_type": "code",
   "execution_count": 3,
   "metadata": {},
   "outputs": [],
   "source": [
    "# # This model maps an input to its encoded representation\n",
    "# encoder = keras.Model(input_img, encoded)"
   ]
  },
  {
   "cell_type": "code",
   "execution_count": 4,
   "metadata": {},
   "outputs": [],
   "source": [
    "# # This is our encoded (32-dimensional) input\n",
    "# encoded_input = keras.Input(shape=(encoding_dim,))\n",
    "# # Retrieve the last layer of the autoencoder model\n",
    "# decoder_layer = autoencoder.layers[-1]\n",
    "# # Create the decoder model\n",
    "# decoder = keras.Model(encoded_input, decoder_layer(encoded_input))"
   ]
  },
  {
   "cell_type": "code",
   "execution_count": 5,
   "metadata": {},
   "outputs": [],
   "source": [
    "# autoencoder.compile(optimizer='adam', loss='binary_crossentropy')"
   ]
  },
  {
   "cell_type": "code",
   "execution_count": 6,
   "metadata": {},
   "outputs": [],
   "source": [
    "# # preparing input data using MNIST digits, \n",
    "# # and we're discarding the labels (since we're only interested in encoding/decoding the input images).\n",
    "# from keras.datasets import mnist\n",
    "# import numpy as np\n",
    "# (x_train, _), (x_test, _) = mnist.load_data()"
   ]
  },
  {
   "cell_type": "code",
   "execution_count": 7,
   "metadata": {},
   "outputs": [],
   "source": [
    "# # Normalise values between 0 and 1 and flatten the 28x28 images into vectors, size 784 \n",
    "# x_train = x_train.astype('float32') / 255.\n",
    "# x_test = x_test.astype('float32') / 255.\n",
    "# x_train = x_train.reshape((len(x_train), np.prod(x_train.shape[1:])))\n",
    "# x_test = x_test.reshape((len(x_test), np.prod(x_test.shape[1:])))\n",
    "# print(x_train.shape)\n",
    "# print(x_test.shape)"
   ]
  },
  {
   "cell_type": "code",
   "execution_count": 8,
   "metadata": {},
   "outputs": [],
   "source": [
    "# autoencoder.fit(x_train, x_train,\n",
    "#                 epochs=50,\n",
    "#                 batch_size=256,\n",
    "#                 shuffle=True,\n",
    "#                 validation_data=(x_test, x_test))"
   ]
  },
  {
   "cell_type": "code",
   "execution_count": 9,
   "metadata": {},
   "outputs": [],
   "source": [
    "# # Encode and decode some digits\n",
    "# # Note that we take them from the *test* set\n",
    "# encoded_imgs = encoder.predict(x_test)\n",
    "# decoded_imgs = decoder.predict(encoded_imgs)"
   ]
  },
  {
   "cell_type": "code",
   "execution_count": 10,
   "metadata": {},
   "outputs": [],
   "source": [
    "# # Use Matplotlib (don't ask)\n",
    "# import matplotlib.pyplot as plt\n",
    "\n",
    "# n = 10  # How many digits we will display\n",
    "# plt.figure(figsize=(20, 4))\n",
    "# for i in range(n):\n",
    "#     # Display original\n",
    "#     ax = plt.subplot(2, n, i + 1)\n",
    "#     plt.imshow(x_test[i].reshape(28, 28))\n",
    "#     plt.gray()\n",
    "#     ax.get_xaxis().set_visible(False)\n",
    "#     ax.get_yaxis().set_visible(False)\n",
    "\n",
    "#     # Display reconstruction\n",
    "#     ax = plt.subplot(2, n, i + 1 + n)\n",
    "#     plt.imshow(decoded_imgs[i].reshape(28, 28))\n",
    "#     plt.gray()\n",
    "#     ax.get_xaxis().set_visible(False)\n",
    "#     ax.get_yaxis().set_visible(False)\n",
    "# plt.show()"
   ]
  },
  {
   "cell_type": "code",
   "execution_count": 11,
   "metadata": {},
   "outputs": [],
   "source": [
    "# # Adding a sparsity constraint on the encoded representations\n",
    "\n",
    "# from keras import regularizers\n",
    "\n",
    "# encoding_dim = 32\n",
    "\n",
    "# input_img = keras.Input(shape=(784,))\n",
    "# # Add a Dense layer with a L1 activity regularizer\n",
    "# encoded = layers.Dense(encoding_dim, activation='relu',\n",
    "#                 activity_regularizer=regularizers.l1(10e-5))(input_img)\n",
    "# decoded = layers.Dense(784, activation='sigmoid')(encoded)\n",
    "\n",
    "# autoencoder = keras.Model(input_img, decoded)\n"
   ]
  },
  {
   "cell_type": "code",
   "execution_count": 12,
   "metadata": {},
   "outputs": [],
   "source": [
    "# ----------------------------------------------------------------------\n",
    "# \n",
    "# Convolutional Autoencoder"
   ]
  },
  {
   "cell_type": "code",
   "execution_count": 13,
   "metadata": {},
   "outputs": [],
   "source": [
    "import keras\n",
    "from keras import layers\n",
    "\n",
    "input_img = keras.Input(shape=(28, 28, 1))\n",
    "\n",
    "x = layers.Conv2D(16, (3, 3), activation='relu', padding='same')(input_img)\n",
    "x = layers.MaxPooling2D((2, 2), padding='same')(x)\n",
    "x = layers.Conv2D(8, (3, 3), activation='relu', padding='same')(x)\n",
    "x = layers.MaxPooling2D((2, 2), padding='same')(x)\n",
    "x = layers.Conv2D(8, (3, 3), activation='relu', padding='same')(x)\n",
    "encoded = layers.MaxPooling2D((2, 2), padding='same')(x)\n",
    "\n",
    "# at this point the representation is (4, 4, 8) i.e. 128-dimensional\n",
    "\n",
    "x = layers.Conv2D(8, (3, 3), activation='relu', padding='same')(encoded)\n",
    "x = layers.UpSampling2D((2, 2))(x)\n",
    "x = layers.Conv2D(8, (3, 3), activation='relu', padding='same')(x)\n",
    "x = layers.UpSampling2D((2, 2))(x)\n",
    "x = layers.Conv2D(16, (3, 3), activation='relu')(x)\n",
    "x = layers.UpSampling2D((2, 2))(x)\n",
    "decoded = layers.Conv2D(1, (3, 3), activation='sigmoid', padding='same')(x)\n",
    "\n",
    "autoencoder = keras.Model(input_img, decoded)\n",
    "autoencoder.compile(optimizer='adam', loss='binary_crossentropy')"
   ]
  },
  {
   "cell_type": "code",
   "execution_count": 14,
   "metadata": {},
   "outputs": [],
   "source": [
    "from keras.datasets import mnist\n",
    "import numpy as np\n",
    "\n",
    "(x_train, _), (x_test, _) = mnist.load_data()\n",
    "\n",
    "x_train = x_train.astype('float32') / 255.\n",
    "x_test = x_test.astype('float32') / 255.\n",
    "x_train = np.reshape(x_train, (len(x_train), 28, 28, 1))\n",
    "x_test = np.reshape(x_test, (len(x_test), 28, 28, 1))"
   ]
  },
  {
   "cell_type": "code",
   "execution_count": 15,
   "metadata": {},
   "outputs": [
    {
     "name": "stdout",
     "output_type": "stream",
     "text": [
      "Epoch 1/50\n",
      "469/469 [==============================] - 48s 99ms/step - loss: 0.3047 - val_loss: 0.1457\n",
      "Epoch 2/50\n",
      "469/469 [==============================] - 44s 94ms/step - loss: 0.1406 - val_loss: 0.1263\n",
      "Epoch 3/50\n",
      "469/469 [==============================] - 43s 91ms/step - loss: 0.1243 - val_loss: 0.1167\n",
      "Epoch 4/50\n",
      "469/469 [==============================] - 43s 91ms/step - loss: 0.1161 - val_loss: 0.1115\n",
      "Epoch 5/50\n",
      "469/469 [==============================] - 42s 90ms/step - loss: 0.1116 - val_loss: 0.1083\n",
      "Epoch 6/50\n",
      "469/469 [==============================] - 42s 89ms/step - loss: 0.1086 - val_loss: 0.1063\n",
      "Epoch 7/50\n",
      "469/469 [==============================] - 42s 90ms/step - loss: 0.1065 - val_loss: 0.1041\n",
      "Epoch 8/50\n",
      "469/469 [==============================] - 42s 90ms/step - loss: 0.1048 - val_loss: 0.1026\n",
      "Epoch 9/50\n",
      "469/469 [==============================] - 43s 91ms/step - loss: 0.1035 - val_loss: 0.1016\n",
      "Epoch 10/50\n",
      "469/469 [==============================] - 42s 90ms/step - loss: 0.1024 - val_loss: 0.1001\n",
      "Epoch 11/50\n",
      "469/469 [==============================] - 42s 90ms/step - loss: 0.1010 - val_loss: 0.0993\n",
      "Epoch 12/50\n",
      "469/469 [==============================] - 43s 91ms/step - loss: 0.1002 - val_loss: 0.0985\n",
      "Epoch 13/50\n",
      "469/469 [==============================] - 43s 91ms/step - loss: 0.0992 - val_loss: 0.0977\n",
      "Epoch 14/50\n",
      "469/469 [==============================] - 43s 91ms/step - loss: 0.0985 - val_loss: 0.0968\n",
      "Epoch 15/50\n",
      "469/469 [==============================] - 42s 90ms/step - loss: 0.0981 - val_loss: 0.0962\n",
      "Epoch 16/50\n",
      "469/469 [==============================] - 44s 94ms/step - loss: 0.0974 - val_loss: 0.0960\n",
      "Epoch 17/50\n",
      "469/469 [==============================] - 43s 91ms/step - loss: 0.0967 - val_loss: 0.0953\n",
      "Epoch 18/50\n",
      "469/469 [==============================] - 43s 91ms/step - loss: 0.0962 - val_loss: 0.0952\n",
      "Epoch 19/50\n",
      "469/469 [==============================] - 43s 91ms/step - loss: 0.0961 - val_loss: 0.0945\n",
      "Epoch 20/50\n",
      "469/469 [==============================] - 44s 93ms/step - loss: 0.0955 - val_loss: 0.0945\n",
      "Epoch 21/50\n",
      "469/469 [==============================] - 43s 92ms/step - loss: 0.0953 - val_loss: 0.0941\n",
      "Epoch 22/50\n",
      "469/469 [==============================] - 44s 93ms/step - loss: 0.0949 - val_loss: 0.0936\n",
      "Epoch 23/50\n",
      "469/469 [==============================] - 56s 120ms/step - loss: 0.0947 - val_loss: 0.0936\n",
      "Epoch 24/50\n",
      "469/469 [==============================] - 65s 139ms/step - loss: 0.0944 - val_loss: 0.0932\n",
      "Epoch 25/50\n",
      "469/469 [==============================] - 45s 96ms/step - loss: 0.0941 - val_loss: 0.0931\n",
      "Epoch 26/50\n",
      "469/469 [==============================] - 46s 98ms/step - loss: 0.0940 - val_loss: 0.0928\n",
      "Epoch 27/50\n",
      "469/469 [==============================] - 47s 101ms/step - loss: 0.0939 - val_loss: 0.0925\n",
      "Epoch 28/50\n",
      "469/469 [==============================] - 52s 112ms/step - loss: 0.0937 - val_loss: 0.0925\n",
      "Epoch 29/50\n",
      "469/469 [==============================] - 52s 110ms/step - loss: 0.0934 - val_loss: 0.0922\n",
      "Epoch 30/50\n",
      "469/469 [==============================] - 47s 100ms/step - loss: 0.0935 - val_loss: 0.0920\n",
      "Epoch 31/50\n",
      "469/469 [==============================] - 48s 102ms/step - loss: 0.0933 - val_loss: 0.0921\n",
      "Epoch 32/50\n",
      "469/469 [==============================] - 55s 118ms/step - loss: 0.0929 - val_loss: 0.0921\n",
      "Epoch 33/50\n",
      "469/469 [==============================] - 54s 115ms/step - loss: 0.0929 - val_loss: 0.0919\n",
      "Epoch 34/50\n",
      "469/469 [==============================] - 60s 129ms/step - loss: 0.0927 - val_loss: 0.0918\n",
      "Epoch 35/50\n",
      "469/469 [==============================] - 59s 126ms/step - loss: 0.0926 - val_loss: 0.0913\n",
      "Epoch 36/50\n",
      "469/469 [==============================] - 64s 138ms/step - loss: 0.0925 - val_loss: 0.0913\n",
      "Epoch 37/50\n",
      "469/469 [==============================] - 67s 142ms/step - loss: 0.0924 - val_loss: 0.0911\n",
      "Epoch 38/50\n",
      "469/469 [==============================] - 74s 158ms/step - loss: 0.0922 - val_loss: 0.0911\n",
      "Epoch 39/50\n",
      "469/469 [==============================] - 57s 122ms/step - loss: 0.0921 - val_loss: 0.0916\n",
      "Epoch 40/50\n",
      "469/469 [==============================] - 52s 110ms/step - loss: 0.0920 - val_loss: 0.0911\n",
      "Epoch 41/50\n",
      "469/469 [==============================] - 71s 152ms/step - loss: 0.0917 - val_loss: 0.0906\n",
      "Epoch 42/50\n",
      "469/469 [==============================] - 61s 130ms/step - loss: 0.0917 - val_loss: 0.0906\n",
      "Epoch 43/50\n",
      "469/469 [==============================] - 56s 120ms/step - loss: 0.0918 - val_loss: 0.0909\n",
      "Epoch 44/50\n",
      "469/469 [==============================] - 57s 122ms/step - loss: 0.0914 - val_loss: 0.0905\n",
      "Epoch 45/50\n",
      "469/469 [==============================] - 50s 108ms/step - loss: 0.0914 - val_loss: 0.0903\n",
      "Epoch 46/50\n",
      "469/469 [==============================] - 51s 109ms/step - loss: 0.0913 - val_loss: 0.0904\n",
      "Epoch 47/50\n",
      "469/469 [==============================] - 50s 107ms/step - loss: 0.0911 - val_loss: 0.0901\n",
      "Epoch 48/50\n",
      "469/469 [==============================] - 50s 107ms/step - loss: 0.0911 - val_loss: 0.0901\n",
      "Epoch 49/50\n",
      "469/469 [==============================] - 50s 107ms/step - loss: 0.0910 - val_loss: 0.0899\n",
      "Epoch 50/50\n",
      "469/469 [==============================] - 51s 109ms/step - loss: 0.0910 - val_loss: 0.0899\n"
     ]
    },
    {
     "data": {
      "text/plain": [
       "<tensorflow.python.keras.callbacks.History at 0x7fdab40fb250>"
      ]
     },
     "execution_count": 15,
     "metadata": {},
     "output_type": "execute_result"
    }
   ],
   "source": [
    "\n",
    "autoencoder.fit(x_train, x_train,\n",
    "                epochs=50,\n",
    "                batch_size=128,\n",
    "                shuffle=True,\n",
    "                validation_data=(x_test, x_test))\n",
    "\n",
    "# from keras.callbacks import TensorBoard\n",
    "\n",
    "# autoencoder.fit(x_train, x_train,\n",
    "#                 epochs=50,\n",
    "#                 batch_size=128,\n",
    "#                 shuffle=True,\n",
    "#                 validation_data=(x_test, x_test),\n",
    "#                 callbacks=[TensorBoard(log_dir='/tmp/autoencoder')])"
   ]
  },
  {
   "cell_type": "code",
   "execution_count": 17,
   "metadata": {},
   "outputs": [
    {
     "data": {
      "image/png": "[encoded data removed]",
      "text/plain": [
       "<Figure size 1440x288 with 20 Axes>"
      ]
     },
     "metadata": {
      "needs_background": "light"
     },
     "output_type": "display_data"
    }
   ],
   "source": [
    "import matplotlib.pyplot as plt\n",
    "\n",
    "decoded_imgs = autoencoder.predict(x_test)\n",
    "\n",
    "n = 10\n",
    "plt.figure(figsize=(20, 4))\n",
    "for i in range(1, n + 1):\n",
    "    # Display original\n",
    "    ax = plt.subplot(2, n, i)\n",
    "    plt.imshow(x_test[i].reshape(28, 28))\n",
    "    plt.gray()\n",
    "    ax.get_xaxis().set_visible(False)\n",
    "    ax.get_yaxis().set_visible(False)\n",
    "\n",
    "    # Display reconstruction\n",
    "    ax = plt.subplot(2, n, i + n)\n",
    "    plt.imshow(decoded_imgs[i].reshape(28, 28))\n",
    "    plt.gray()\n",
    "    ax.get_xaxis().set_visible(False)\n",
    "    ax.get_yaxis().set_visible(False)\n",
    "plt.show()"
   ]
  },
  {
   "cell_type": "code",
   "execution_count": 18,
   "metadata": {},
   "outputs": [
    {
     "data": {
      "image/png": "[encoded data removed]",
      "text/plain": [
       "<Figure size 1440x576 with 10 Axes>"
      ]
     },
     "metadata": {
      "needs_background": "light"
     },
     "output_type": "display_data"
    }
   ],
   "source": [
    "encoder = keras.Model(input_img, encoded)\n",
    "encoded_imgs = encoder.predict(x_test)\n",
    "\n",
    "n = 10\n",
    "plt.figure(figsize=(20, 8))\n",
    "for i in range(1, n + 1):\n",
    "    ax = plt.subplot(1, n, i)\n",
    "    plt.imshow(encoded_imgs[i].reshape((4, 4 * 8)).T)\n",
    "    plt.gray()\n",
    "    ax.get_xaxis().set_visible(False)\n",
    "    ax.get_yaxis().set_visible(False)\n",
    "plt.show()"
   ]
  }
 ],
 "metadata": {
  "kernelspec": {
   "display_name": "Python 3",
   "language": "python",
   "name": "python3"
  },
  "language_info": {
   "codemirror_mode": {
    "name": "ipython",
    "version": 3
   },
   "file_extension": ".py",
   "mimetype": "text/x-python",
   "name": "python",
   "nbconvert_exporter": "python",
   "pygments_lexer": "ipython3",
   "version": "3.8.5"
  }
 },
 "nbformat": 4,
 "nbformat_minor": 4
}
