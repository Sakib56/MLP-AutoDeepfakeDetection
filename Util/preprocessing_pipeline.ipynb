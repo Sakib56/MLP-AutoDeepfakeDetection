{
 "cells": [
  {
   "cell_type": "code",
   "execution_count": null,
   "id": "standing-banana",
   "metadata": {
    "colab": {
     "base_uri": "https://localhost:8080/"
    },
    "executionInfo": {
     "elapsed": 10656,
     "status": "ok",
     "timestamp": 1612015106596,
     "user": {
      "displayName": "Sakib Ahamed",
      "photoUrl": "https://lh3.googleusercontent.com/a-/AOh14Ghux0A3tJ8ak2hXsUY0-OJKE1g54h6Vq61r4o_n9GY=s64",
      "userId": "01642899865297704166"
     },
     "user_tz": 0
    },
    "id": "-FFpCLmJ1_9v",
    "outputId": "7c8dd1bc-ede0-4507-e461-ff057231fed8"
   },
   "outputs": [],
   "source": [
    "from google.colab import drive\n",
    "drive.mount('/content/drive', force_remount=True)"
   ]
  },
  {
   "cell_type": "code",
   "execution_count": null,
   "id": "exclusive-pontiac",
   "metadata": {},
   "outputs": [],
   "source": [
    "# %cd '/content/drive/MyDrive/Colab Notebooks/DeepFake Detector'\n",
    "%cd '..'"
   ]
  },
  {
   "cell_type": "code",
   "execution_count": null,
   "id": "behavioral-nightmare",
   "metadata": {},
   "outputs": [],
   "source": [
    "!pip install face_recognition"
   ]
  },
  {
   "cell_type": "code",
   "execution_count": null,
   "id": "fewer-mileage",
   "metadata": {
    "executionInfo": {
     "elapsed": 10641,
     "status": "ok",
     "timestamp": 1612015106599,
     "user": {
      "displayName": "Sakib Ahamed",
      "photoUrl": "https://lh3.googleusercontent.com/a-/AOh14Ghux0A3tJ8ak2hXsUY0-OJKE1g54h6Vq61r4o_n9GY=s64",
      "userId": "01642899865297704166"
     },
     "user_tz": 0
    },
    "id": "3Ixxd_cU16yM"
   },
   "outputs": [],
   "source": [
    "import os\n",
    "from tqdm import tqdm\n",
    "from PIL import Image\n",
    "from heapq import nsmallest\n",
    "from math import ceil\n",
    "from time import time\n",
    "from random import randint, seed\n",
    "from pipeline import *\n",
    "seed(0)"
   ]
  },
  {
   "cell_type": "code",
   "execution_count": null,
   "id": "addressed-cooking",
   "metadata": {
    "executionInfo": {
     "elapsed": 12141,
     "status": "ok",
     "timestamp": 1612015108108,
     "user": {
      "displayName": "Sakib Ahamed",
      "photoUrl": "https://lh3.googleusercontent.com/a-/AOh14Ghux0A3tJ8ak2hXsUY0-OJKE1g54h6Vq61r4o_n9GY=s64",
      "userId": "01642899865297704166"
     },
     "user_tz": 0
    },
    "id": "wbcdSjTi16yW"
   },
   "outputs": [],
   "source": [
    "real_video_dir_path = './Celeb-DF-v2/Celeb-real-videos'\n",
    "fake_video_dir_path = './Celeb-DF-v2/Celeb-synthesis-videos'"
   ]
  },
  {
   "cell_type": "code",
   "execution_count": null,
   "id": "anonymous-letter",
   "metadata": {},
   "outputs": [],
   "source": [
    "# video_dir_path = real_video_dir_path\n",
    "video_dir_path = fake_video_dir_path\n",
    "video_listdir = os.listdir(video_dir_path)"
   ]
  },
  {
   "cell_type": "code",
   "execution_count": null,
   "id": "usual-timber",
   "metadata": {
    "colab": {
     "base_uri": "https://localhost:8080/",
     "height": 1000
    },
    "executionInfo": {
     "elapsed": 38887,
     "status": "error",
     "timestamp": 1612015457575,
     "user": {
      "displayName": "Sakib Ahamed",
      "photoUrl": "https://lh3.googleusercontent.com/a-/AOh14Ghux0A3tJ8ak2hXsUY0-OJKE1g54h6Vq61r4o_n9GY=s64",
      "userId": "01642899865297704166"
     },
     "user_tz": 0
    },
    "id": "9yBeC9hv16yX",
    "outputId": "8f44d025-22d6-4d9c-9286-a46018bc5e13"
   },
   "outputs": [],
   "source": [
    "# 1 pic per vid\n",
    "for video_name in tqdm(video_listdir):\n",
    "    start_time = time()\n",
    "    \n",
    "    video = os.path.join(video_dir_path, video_name)\n",
    "    frames = get_every_frame(video, interval=1)\n",
    "    \n",
    "    # face_coordinates = get_face_locations(frames)\n",
    "    face_coordinates = get_face_locations(frames, GPU=True, batch_size=96)\n",
    "    centroid = get_centroid(face_coordinates)\n",
    "    dist_from_centroid = get_distance_from_centroid(centroid,\n",
    "                                                    face_coordinates)\n",
    "\n",
    "    movement_thershold = nsmallest(4, set([d for d in dist_from_centroid if d is not None]))[-1]\n",
    "    \n",
    "\n",
    "    stable_faces = get_stable_faces(movement_thershold,\n",
    "                                dist_from_centroid, \n",
    "                                face_coordinates, \n",
    "                                frames, \n",
    "                                zoomed=False)\n",
    "\n",
    "    number_of_frames_w_faces = len(stable_faces)\n",
    "    sections = 6\n",
    "    differencing_interval = ceil(number_of_frames_w_faces/sections)\n",
    "    video_name = video_name[:-4]\n",
    "\n",
    "    differenced_face = difference(stable_faces, interval=differencing_interval)\n",
    "    Image.fromarray(differenced_face, mode='RGB').save(\n",
    "        os.path.join(f'{video_dir_path}-diff', f'{video_name}.png'),'PNG')\n",
    "\n",
    "    average_face = average(stable_faces)\n",
    "    Image.fromarray(average_face, mode='RGB').save(\n",
    "        os.path.join(f'{video_dir_path}-avg', f'{video_name}.png'),'PNG')\n",
    "\n",
    "    random_face = stable_faces[randint(0, number_of_frames_w_faces-1)]\n",
    "    Image.fromarray(random_face, mode='RGB').save(\n",
    "        os.path.join(f'{video_dir_path}-rnd', f'{video_name}.png'),'PNG')\n",
    "\n",
    "    print(f'\\n{video_name} pre-processed in {time()-start_time:.2f}s')"
   ]
  },
  {
   "cell_type": "code",
   "execution_count": null,
   "id": "bound-institute",
   "metadata": {},
   "outputs": [],
   "source": [
    "# N pic per vid\n",
    "for video_name in tqdm(video_listdir):\n",
    "    start_time = time()\n",
    "    \n",
    "    video = os.path.join(video_dir_path, video_name)\n",
    "    frames = get_every_frame(video, interval=1)\n",
    "    \n",
    "    # face_coordinates = get_face_locations(frames)\n",
    "    face_coordinates = get_face_locations(frames, GPU=True, batch_size=96)\n",
    "    centroid = get_centroid(face_coordinates)\n",
    "    dist_from_centroid = get_distance_from_centroid(centroid,\n",
    "                                                    face_coordinates)\n",
    "\n",
    "    movement_thershold = nsmallest(4, set([d for d in dist_from_centroid if d is not None]))[-1]\n",
    "    \n",
    "\n",
    "    stable_faces = get_stable_faces(movement_thershold,\n",
    "                                dist_from_centroid, \n",
    "                                face_coordinates, \n",
    "                                frames, \n",
    "                                zoomed=False)\n",
    "\n",
    "    number_of_frames_w_faces = len(stable_faces)\n",
    "    sections = 6\n",
    "    differencing_interval = ceil(number_of_frames_w_faces/sections)\n",
    "    video_name = video_name[:-4]\n",
    "\n",
    "    differenced_face = difference_all(stable_faces, interval=differencing_interval)\n",
    "    Image.fromarray(differenced_face, mode='RGB').save(\n",
    "        os.path.join(f'{video_dir_path}-diff', f'{video_name}.png'),'PNG')\n",
    "\n",
    "    average_face = average_all(stable_faces)\n",
    "    Image.fromarray(average_face, mode='RGB').save(\n",
    "        os.path.join(f'{video_dir_path}-avg', f'{video_name}.png'),'PNG')\n",
    "\n",
    "    \n",
    "    random_face = stable_faces[randint(0, number_of_frames_w_faces-1)]\n",
    "    Image.fromarray(random_face, mode='RGB').save(\n",
    "        os.path.join(f'{video_dir_path}-rnd', f'{video_name}.png'),'PNG')\n",
    "\n",
    "    print(f'\\n{video_name} pre-processed in {time()-start_time:.2f}s')"
   ]
  },
  {
   "cell_type": "code",
   "execution_count": null,
   "id": "grateful-thread",
   "metadata": {
    "colab": {
     "background_save": true
    },
    "executionInfo": {
     "elapsed": 11,
     "status": "aborted",
     "timestamp": 1612015457578,
     "user": {
      "displayName": "Sakib Ahamed",
      "photoUrl": "https://lh3.googleusercontent.com/a-/AOh14Ghux0A3tJ8ak2hXsUY0-OJKE1g54h6Vq61r4o_n9GY=s64",
      "userId": "01642899865297704166"
     },
     "user_tz": 0
    },
    "id": "Fy42TvUak3v_"
   },
   "outputs": [],
   "source": []
  }
 ],
 "metadata": {
  "accelerator": "GPU",
  "colab": {
   "collapsed_sections": [],
   "name": "preprocessing_pipeline_colabGPU.ipynb",
   "version": ""
  },
  "kernelspec": {
   "display_name": "Python 3",
   "language": "python",
   "name": "python3"
  },
  "language_info": {
   "codemirror_mode": {
    "name": "ipython",
    "version": 3
   },
   "file_extension": ".py",
   "mimetype": "text/x-python",
   "name": "python",
   "nbconvert_exporter": "python",
   "pygments_lexer": "ipython3",
   "version": "3.8.6"
  }
 },
 "nbformat": 4,
 "nbformat_minor": 5
}
