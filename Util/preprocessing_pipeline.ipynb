{
 "cells": [
  {
   "cell_type": "code",
   "execution_count": null,
   "id": "standing-banana",
   "metadata": {
    "colab": {
     "base_uri": "https://localhost:8080/"
    },
    "executionInfo": {
     "elapsed": 10656,
     "status": "ok",
     "timestamp": 1612015106596,
     "user": {
      "displayName": "Sakib Ahamed",
      "photoUrl": "https://lh3.googleusercontent.com/a-/AOh14Ghux0A3tJ8ak2hXsUY0-OJKE1g54h6Vq61r4o_n9GY=s64",
      "userId": "01642899865297704166"
     },
     "user_tz": 0
    },
    "id": "-FFpCLmJ1_9v",
    "outputId": "7c8dd1bc-ede0-4507-e461-ff057231fed8"
   },
   "outputs": [],
   "source": [
    "# For Google Colab Use \n",
    "# from google.colab import drive\n",
    "# drive.mount('/content/drive', force_remount=True)"
   ]
  },
  {
   "cell_type": "code",
   "execution_count": null,
   "id": "exclusive-pontiac",
   "metadata": {},
   "outputs": [],
   "source": [
    "# %cd '/content/drive/MyDrive/Colab Notebooks/DeepFake Detector'\n",
    "%cd '..'"
   ]
  },
  {
   "cell_type": "code",
   "execution_count": null,
   "id": "behavioral-nightmare",
   "metadata": {},
   "outputs": [],
   "source": [
    "!pip install face_recognition"
   ]
  },
  {
   "cell_type": "code",
   "execution_count": null,
   "id": "fewer-mileage",
   "metadata": {
    "executionInfo": {
     "elapsed": 10641,
     "status": "ok",
     "timestamp": 1612015106599,
     "user": {
      "displayName": "Sakib Ahamed",
      "photoUrl": "https://lh3.googleusercontent.com/a-/AOh14Ghux0A3tJ8ak2hXsUY0-OJKE1g54h6Vq61r4o_n9GY=s64",
      "userId": "01642899865297704166"
     },
     "user_tz": 0
    },
    "id": "3Ixxd_cU16yM"
   },
   "outputs": [],
   "source": [
    "import os\n",
    "from tqdm import tqdm\n",
    "from PIL import Image\n",
    "from heapq import nsmallest\n",
    "from math import ceil\n",
    "from time import time\n",
    "from random import randint, seed\n",
    "from pipeline import *\n",
    "seed(0)"
   ]
  },
  {
   "cell_type": "code",
   "execution_count": null,
   "id": "explicit-locking",
   "metadata": {},
   "outputs": [],
   "source": [
    "root_datasets_path = './Celeb-DF-v2'"
   ]
  },
  {
   "cell_type": "code",
   "execution_count": null,
   "id": "addressed-cooking",
   "metadata": {
    "executionInfo": {
     "elapsed": 12141,
     "status": "ok",
     "timestamp": 1612015108108,
     "user": {
      "displayName": "Sakib Ahamed",
      "photoUrl": "https://lh3.googleusercontent.com/a-/AOh14Ghux0A3tJ8ak2hXsUY0-OJKE1g54h6Vq61r4o_n9GY=s64",
      "userId": "01642899865297704166"
     },
     "user_tz": 0
    },
    "id": "wbcdSjTi16yW"
   },
   "outputs": [],
   "source": [
    "real_video_dir_path = f'{root_datasets_path}/Celeb-videos/Celeb-real'\n",
    "fake_video_dir_path = f'{root_datasets_path}/Celeb-videos/Celeb-synthesis'"
   ]
  },
  {
   "cell_type": "code",
   "execution_count": null,
   "id": "union-perth",
   "metadata": {},
   "outputs": [],
   "source": [
    "# Create test set 5 male actors and females actors, respectively\n",
    "test_males = [0,1,2,3,4]\n",
    "test_females = [7,8,10,11,13]\n",
    "test_actor_ids = ['id' + str(num) for num in test_males+test_females]"
   ]
  },
  {
   "cell_type": "code",
   "execution_count": null,
   "id": "spatial-frequency",
   "metadata": {},
   "outputs": [],
   "source": [
    "video_dir_path = fake_video_dir_path\n",
    "class_name = video_dir_path.split('-')[-1]"
   ]
  },
  {
   "cell_type": "code",
   "execution_count": null,
   "id": "consistent-rugby",
   "metadata": {},
   "outputs": [],
   "source": [
    "for video_name in tqdm(os.listdir(video_dir_path)[10:]):\n",
    "    video = os.path.join(video_dir_path, video_name)\n",
    "    video_name = video_name.replace('.mp4', '')\n",
    "    frames = get_every_frame(video, interval=1)\n",
    "\n",
    "    face_coordinates = get_face_locations(frames, GPU=False, batch_size=96)\n",
    "    centroid = get_centroid(face_coordinates)\n",
    "    dist_from_centroid = get_distance_from_centroid(centroid, face_coordinates)\n",
    "\n",
    "    movement_thershold = sorted(set([d for d in dist_from_centroid if d is not None]))[-2]\n",
    "    zoomed_stable_faces = get_stable_faces(movement_thershold,\n",
    "                                           dist_from_centroid,\n",
    "                                           face_coordinates,\n",
    "                                           frames,\n",
    "                                           zoomed=True)\n",
    "    # Create imgs for train-val set\n",
    "    if not any([1 if actor_id in video_name else 0 for actor_id in test_actor_ids]):\n",
    "        for i, sub_avg in enumerate(sub_average(frames, face_coordinates, interval=8)):\n",
    "            Image.fromarray(sub_avg, mode='RGB').save(\n",
    "                f'{root_datasets_path}/Celeb-avg/Celeb-{class_name}/{video_name}_{i}.png','PNG')\n",
    "\n",
    "        for i, sub_diff in enumerate(sub_difference(frames, face_coordinates, interval=8)):\n",
    "            Image.fromarray(sub_diff, mode='RGB').save(\n",
    "                f'{root_datasets_path}/Celeb-diff/Celeb-{class_name}/{video_name}_{i}.png','PNG')\n",
    "\n",
    "        for i, frame in enumerate(zoomed_stable_faces):\n",
    "            Image.fromarray(frame, mode='RGB').save(\n",
    "                f'{root_datasets_path}/Celeb-frames/Celeb-{class_name}/{video_name}_{i}.png','PNG')\n",
    "    \n",
    "    \n",
    "    # Create imgs for test set     \n",
    "    else:\n",
    "        for i, sub_avg in enumerate(sub_average(frames, face_coordinates, interval=8)):\n",
    "            Image.fromarray(sub_avg, mode='RGB').save(\n",
    "                f'{root_datasets_path}/Celeb-avg-test/Celeb-{class_name}/{video_name}_{i}.png','PNG')\n",
    "\n",
    "        for i, sub_diff in enumerate(sub_difference(frames, face_coordinates, interval=8)):\n",
    "            Image.fromarray(sub_diff, mode='RGB').save(\n",
    "                f'{root_datasets_path}/Celeb-diff-test/Celeb-{class_name}/{video_name}_{i}.png','PNG')\n",
    "\n",
    "        for i, frame in enumerate(zoomed_stable_faces):\n",
    "            Image.fromarray(frame, mode='RGB').save(\n",
    "                f'{root_datasets_path}/Celeb-frames-test/Celeb-{class_name}/{video_name}_{i}.png','PNG')"
   ]
  }
 ],
 "metadata": {
  "accelerator": "GPU",
  "colab": {
   "collapsed_sections": [],
   "name": "preprocessing_pipeline_colabGPU.ipynb",
   "version": ""
  },
  "kernelspec": {
   "display_name": "Python 3",
   "language": "python",
   "name": "python3"
  },
  "language_info": {
   "codemirror_mode": {
    "name": "ipython",
    "version": 3
   },
   "file_extension": ".py",
   "mimetype": "text/x-python",
   "name": "python",
   "nbconvert_exporter": "python",
   "pygments_lexer": "ipython3",
   "version": "3.8.6"
  }
 },
 "nbformat": 4,
 "nbformat_minor": 5
}
